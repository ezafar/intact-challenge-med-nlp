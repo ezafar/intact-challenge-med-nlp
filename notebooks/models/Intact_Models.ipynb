{
 "cells": [
  {
   "cell_type": "code",
   "execution_count": null,
   "metadata": {
    "id": "IOabH3gC5m1R"
   },
   "outputs": [],
   "source": [
    "!pip install imbalanced-learn"
   ]
  },
  {
   "cell_type": "code",
   "execution_count": 5,
   "metadata": {
    "id": "ZL8BeAr7tvvn"
   },
   "outputs": [],
   "source": [
    "import pandas as pd"
   ]
  },
  {
   "cell_type": "code",
   "execution_count": 6,
   "metadata": {
    "id": "lIu0P8rvt2d3"
   },
   "outputs": [],
   "source": [
    "df = pd.read_csv(\"/content/drive/MyDrive/cleaned_data.csv\", index_col=0)"
   ]
  },
  {
   "cell_type": "code",
   "execution_count": null,
   "metadata": {
    "colab": {
     "base_uri": "https://localhost:8080/",
     "height": 206
    },
    "id": "03uCFcjYuJx_",
    "outputId": "617deff5-677e-4296-ecd7-6547d2b27abb"
   },
   "outputs": [
    {
     "data": {
      "text/html": [
       "\n",
       "  <div id=\"df-5c063a6a-f165-400b-bae8-7983edeee010\">\n",
       "    <div class=\"colab-df-container\">\n",
       "      <div>\n",
       "<style scoped>\n",
       "    .dataframe tbody tr th:only-of-type {\n",
       "        vertical-align: middle;\n",
       "    }\n",
       "\n",
       "    .dataframe tbody tr th {\n",
       "        vertical-align: top;\n",
       "    }\n",
       "\n",
       "    .dataframe thead th {\n",
       "        text-align: right;\n",
       "    }\n",
       "</style>\n",
       "<table border=\"1\" class=\"dataframe\">\n",
       "  <thead>\n",
       "    <tr style=\"text-align: right;\">\n",
       "      <th></th>\n",
       "      <th>medical_specialty</th>\n",
       "      <th>transcription</th>\n",
       "      <th>labels</th>\n",
       "      <th>transcription_cleaned_simple</th>\n",
       "    </tr>\n",
       "  </thead>\n",
       "  <tbody>\n",
       "    <tr>\n",
       "      <th>0</th>\n",
       "      <td>Emergency Room Reports</td>\n",
       "      <td>REASON FOR THE VISIT:,  Very high PT/INR.,HIST...</td>\n",
       "      <td>0</td>\n",
       "      <td>reason visit high pt inr history patient year ...</td>\n",
       "    </tr>\n",
       "    <tr>\n",
       "      <th>1</th>\n",
       "      <td>Surgery</td>\n",
       "      <td>PREOPERATIVE DIAGNOSIS:,  Acetabular fracture ...</td>\n",
       "      <td>1</td>\n",
       "      <td>preoperative diagnosis acetabular fracture lef...</td>\n",
       "    </tr>\n",
       "    <tr>\n",
       "      <th>2</th>\n",
       "      <td>Surgery</td>\n",
       "      <td>NAME OF PROCEDURE,1.  Selective coronary angio...</td>\n",
       "      <td>1</td>\n",
       "      <td>name procedure selective coronary angiography ...</td>\n",
       "    </tr>\n",
       "    <tr>\n",
       "      <th>3</th>\n",
       "      <td>Radiology</td>\n",
       "      <td>REFERRING DIAGNOSIS: , Motor neuron disease.,P...</td>\n",
       "      <td>2</td>\n",
       "      <td>referring diagnosis motor neuron disease perti...</td>\n",
       "    </tr>\n",
       "    <tr>\n",
       "      <th>4</th>\n",
       "      <td>Emergency Room Reports</td>\n",
       "      <td>CHIEF COMPLAINT: , Dental pain.,HISTORY OF PRE...</td>\n",
       "      <td>0</td>\n",
       "      <td>chief complaint dental pain history present il...</td>\n",
       "    </tr>\n",
       "  </tbody>\n",
       "</table>\n",
       "</div>\n",
       "      <button class=\"colab-df-convert\" onclick=\"convertToInteractive('df-5c063a6a-f165-400b-bae8-7983edeee010')\"\n",
       "              title=\"Convert this dataframe to an interactive table.\"\n",
       "              style=\"display:none;\">\n",
       "        \n",
       "  <svg xmlns=\"http://www.w3.org/2000/svg\" height=\"24px\"viewBox=\"0 0 24 24\"\n",
       "       width=\"24px\">\n",
       "    <path d=\"M0 0h24v24H0V0z\" fill=\"none\"/>\n",
       "    <path d=\"M18.56 5.44l.94 2.06.94-2.06 2.06-.94-2.06-.94-.94-2.06-.94 2.06-2.06.94zm-11 1L8.5 8.5l.94-2.06 2.06-.94-2.06-.94L8.5 2.5l-.94 2.06-2.06.94zm10 10l.94 2.06.94-2.06 2.06-.94-2.06-.94-.94-2.06-.94 2.06-2.06.94z\"/><path d=\"M17.41 7.96l-1.37-1.37c-.4-.4-.92-.59-1.43-.59-.52 0-1.04.2-1.43.59L10.3 9.45l-7.72 7.72c-.78.78-.78 2.05 0 2.83L4 21.41c.39.39.9.59 1.41.59.51 0 1.02-.2 1.41-.59l7.78-7.78 2.81-2.81c.8-.78.8-2.07 0-2.86zM5.41 20L4 18.59l7.72-7.72 1.47 1.35L5.41 20z\"/>\n",
       "  </svg>\n",
       "      </button>\n",
       "      \n",
       "  <style>\n",
       "    .colab-df-container {\n",
       "      display:flex;\n",
       "      flex-wrap:wrap;\n",
       "      gap: 12px;\n",
       "    }\n",
       "\n",
       "    .colab-df-convert {\n",
       "      background-color: #E8F0FE;\n",
       "      border: none;\n",
       "      border-radius: 50%;\n",
       "      cursor: pointer;\n",
       "      display: none;\n",
       "      fill: #1967D2;\n",
       "      height: 32px;\n",
       "      padding: 0 0 0 0;\n",
       "      width: 32px;\n",
       "    }\n",
       "\n",
       "    .colab-df-convert:hover {\n",
       "      background-color: #E2EBFA;\n",
       "      box-shadow: 0px 1px 2px rgba(60, 64, 67, 0.3), 0px 1px 3px 1px rgba(60, 64, 67, 0.15);\n",
       "      fill: #174EA6;\n",
       "    }\n",
       "\n",
       "    [theme=dark] .colab-df-convert {\n",
       "      background-color: #3B4455;\n",
       "      fill: #D2E3FC;\n",
       "    }\n",
       "\n",
       "    [theme=dark] .colab-df-convert:hover {\n",
       "      background-color: #434B5C;\n",
       "      box-shadow: 0px 1px 3px 1px rgba(0, 0, 0, 0.15);\n",
       "      filter: drop-shadow(0px 1px 2px rgba(0, 0, 0, 0.3));\n",
       "      fill: #FFFFFF;\n",
       "    }\n",
       "  </style>\n",
       "\n",
       "      <script>\n",
       "        const buttonEl =\n",
       "          document.querySelector('#df-5c063a6a-f165-400b-bae8-7983edeee010 button.colab-df-convert');\n",
       "        buttonEl.style.display =\n",
       "          google.colab.kernel.accessAllowed ? 'block' : 'none';\n",
       "\n",
       "        async function convertToInteractive(key) {\n",
       "          const element = document.querySelector('#df-5c063a6a-f165-400b-bae8-7983edeee010');\n",
       "          const dataTable =\n",
       "            await google.colab.kernel.invokeFunction('convertToInteractive',\n",
       "                                                     [key], {});\n",
       "          if (!dataTable) return;\n",
       "\n",
       "          const docLinkHtml = 'Like what you see? Visit the ' +\n",
       "            '<a target=\"_blank\" href=https://colab.research.google.com/notebooks/data_table.ipynb>data table notebook</a>'\n",
       "            + ' to learn more about interactive tables.';\n",
       "          element.innerHTML = '';\n",
       "          dataTable['output_type'] = 'display_data';\n",
       "          await google.colab.output.renderOutput(dataTable, element);\n",
       "          const docLink = document.createElement('div');\n",
       "          docLink.innerHTML = docLinkHtml;\n",
       "          element.appendChild(docLink);\n",
       "        }\n",
       "      </script>\n",
       "    </div>\n",
       "  </div>\n",
       "  "
      ],
      "text/plain": [
       "         medical_specialty                                      transcription  \\\n",
       "0   Emergency Room Reports  REASON FOR THE VISIT:,  Very high PT/INR.,HIST...   \n",
       "1                  Surgery  PREOPERATIVE DIAGNOSIS:,  Acetabular fracture ...   \n",
       "2                  Surgery  NAME OF PROCEDURE,1.  Selective coronary angio...   \n",
       "3                Radiology  REFERRING DIAGNOSIS: , Motor neuron disease.,P...   \n",
       "4   Emergency Room Reports  CHIEF COMPLAINT: , Dental pain.,HISTORY OF PRE...   \n",
       "\n",
       "   labels                       transcription_cleaned_simple  \n",
       "0       0  reason visit high pt inr history patient year ...  \n",
       "1       1  preoperative diagnosis acetabular fracture lef...  \n",
       "2       1  name procedure selective coronary angiography ...  \n",
       "3       2  referring diagnosis motor neuron disease perti...  \n",
       "4       0  chief complaint dental pain history present il...  "
      ]
     },
     "execution_count": 4,
     "metadata": {},
     "output_type": "execute_result"
    }
   ],
   "source": [
    "df.head()"
   ]
  },
  {
   "cell_type": "code",
   "execution_count": 7,
   "metadata": {
    "id": "1takS8-MveTl"
   },
   "outputs": [],
   "source": [
    "# Libraries \n",
    "from sklearn.feature_extraction.text import TfidfVectorizer\n",
    "from sklearn import model_selection, naive_bayes, svm\n",
    "from sklearn.metrics import accuracy_score\n",
    "from sklearn.metrics import classification_report\n"
   ]
  },
  {
   "cell_type": "markdown",
   "metadata": {
    "id": "SEhs8M2cufgd"
   },
   "source": [
    "# Naive Bayes"
   ]
  },
  {
   "cell_type": "code",
   "execution_count": 29,
   "metadata": {
    "id": "pdSPsDAg7zDq"
   },
   "outputs": [],
   "source": [
    "# Train-Test Split\n",
    "Train_X, Test_X, Train_y, Test_y = model_selection.train_test_split(df['transcription_cleaned_simple'], df['labels'].values, test_size=0.3, random_state=69)\n",
    "Tfidf_vectorizer = TfidfVectorizer(max_features=10000)\n",
    "Tfidf_vectorizer.fit(df['transcription_cleaned_simple'])\n",
    "Train_X_vectorized = Tfidf_vectorizer.transform(Train_X)\n",
    "Test_X_vectorized = Tfidf_vectorizer.transform(Test_X)"
   ]
  },
  {
   "cell_type": "code",
   "execution_count": 30,
   "metadata": {
    "colab": {
     "base_uri": "https://localhost:8080/"
    },
    "id": "mNSevXcIuwof",
    "outputId": "51cde68e-c833-48c0-9544-2e7c9056d3ff"
   },
   "outputs": [
    {
     "name": "stdout",
     "output_type": "stream",
     "text": [
      "Naive Bayes Accuracy Score ->  35.684298908480265\n",
      "              precision    recall  f1-score   support\n",
      "\n",
      "           0       0.00      0.00      0.00        22\n",
      "           1       0.42      0.94      0.58       261\n",
      "           2       0.46      0.19      0.27        70\n",
      "           3       0.00      0.00      0.00        12\n",
      "           4       0.36      0.30      0.33        44\n",
      "           5       0.00      0.00      0.00        53\n",
      "           6       0.33      0.10      0.15        94\n",
      "           7       0.44      0.30      0.36        93\n",
      "           8       0.00      0.00      0.00        20\n",
      "           9       0.00      0.00      0.00        19\n",
      "          10       0.00      0.00      0.00        61\n",
      "          11       0.00      0.00      0.00        22\n",
      "          12       0.00      0.00      0.00         7\n",
      "          13       0.00      0.00      0.00        32\n",
      "          14       0.00      0.00      0.00         3\n",
      "          15       0.00      0.00      0.00        13\n",
      "          16       0.26      0.95      0.41       122\n",
      "          17       0.00      0.00      0.00         1\n",
      "          18       0.00      0.00      0.00        18\n",
      "          19       0.00      0.00      0.00        40\n",
      "          20       0.00      0.00      0.00        39\n",
      "          21       0.00      0.00      0.00        26\n",
      "          22       0.00      0.00      0.00         1\n",
      "          23       0.00      0.00      0.00         8\n",
      "          24       0.00      0.00      0.00         6\n",
      "          25       0.00      0.00      0.00         4\n",
      "          26       0.00      0.00      0.00         2\n",
      "          27       0.00      0.00      0.00        14\n",
      "          28       0.00      0.00      0.00         1\n",
      "          29       0.00      0.00      0.00        12\n",
      "          30       0.00      0.00      0.00        24\n",
      "          31       0.00      0.00      0.00         6\n",
      "          32       0.00      0.00      0.00         4\n",
      "          33       0.00      0.00      0.00         5\n",
      "          34       0.00      0.00      0.00        19\n",
      "          35       0.00      0.00      0.00         3\n",
      "          36       0.00      0.00      0.00         1\n",
      "          37       0.00      0.00      0.00         2\n",
      "          38       0.00      0.00      0.00         4\n",
      "          39       0.00      0.00      0.00         3\n",
      "\n",
      "    accuracy                           0.36      1191\n",
      "   macro avg       0.06      0.07      0.05      1191\n",
      "weighted avg       0.22      0.36      0.24      1191\n",
      "\n"
     ]
    },
    {
     "name": "stderr",
     "output_type": "stream",
     "text": [
      "/usr/local/lib/python3.10/dist-packages/sklearn/metrics/_classification.py:1344: UndefinedMetricWarning: Precision and F-score are ill-defined and being set to 0.0 in labels with no predicted samples. Use `zero_division` parameter to control this behavior.\n",
      "  _warn_prf(average, modifier, msg_start, len(result))\n",
      "/usr/local/lib/python3.10/dist-packages/sklearn/metrics/_classification.py:1344: UndefinedMetricWarning: Precision and F-score are ill-defined and being set to 0.0 in labels with no predicted samples. Use `zero_division` parameter to control this behavior.\n",
      "  _warn_prf(average, modifier, msg_start, len(result))\n",
      "/usr/local/lib/python3.10/dist-packages/sklearn/metrics/_classification.py:1344: UndefinedMetricWarning: Precision and F-score are ill-defined and being set to 0.0 in labels with no predicted samples. Use `zero_division` parameter to control this behavior.\n",
      "  _warn_prf(average, modifier, msg_start, len(result))\n"
     ]
    }
   ],
   "source": [
    "# Fit the training dataset on the Multi-NB classifier\n",
    "MultiNB = naive_bayes.MultinomialNB(alpha=0.5)\n",
    "MultiNB.fit(Train_X_vectorized, Train_y)\n",
    "# Predict the labels on validation dataset\n",
    "pred_y_nb = MultiNB.predict(Test_X_vectorized)\n",
    "# Use accuracy_score function to get the accuracy\n",
    "print(\"Naive Bayes Accuracy Score -> \", accuracy_score(pred_y_nb, Test_y)*100)\n",
    "print(classification_report(Test_y, pred_y_nb))"
   ]
  },
  {
   "cell_type": "markdown",
   "metadata": {
    "id": "XX_5UKxEEYxx"
   },
   "source": [
    "Oversampled Fitting on training data to mitigate imbalance."
   ]
  },
  {
   "cell_type": "code",
   "execution_count": 60,
   "metadata": {
    "id": "Ftw-WV8V50vN"
   },
   "outputs": [],
   "source": [
    "# OverSampling\n",
    "from imblearn.over_sampling import RandomOverSampler\n",
    "Train_X, Test_X, Train_y, Test_y = model_selection.train_test_split(df['transcription_cleaned_simple'], df['labels'].values, test_size=0.2, random_state=69)\n",
    "Tfidf_vectorizer = TfidfVectorizer(max_features=10000)\n",
    "Tfidf_vectorizer.fit(df['transcription_cleaned_simple'])\n",
    "Train_X_vectorized = Tfidf_vectorizer.transform(Train_X)\n",
    "Test_X_vectorized = Tfidf_vectorizer.transform(Test_X)"
   ]
  },
  {
   "cell_type": "code",
   "execution_count": 61,
   "metadata": {
    "id": "tsqBsgn46Ibl"
   },
   "outputs": [],
   "source": [
    "Train_X_vectorized = Train_X_vectorized.toarray()\n",
    "Test_X_vectorized = Test_X_vectorized.toarray()"
   ]
  },
  {
   "cell_type": "code",
   "execution_count": 62,
   "metadata": {
    "id": "wggNZTEt6L_I"
   },
   "outputs": [],
   "source": [
    "ros = RandomOverSampler()\n",
    "Train_X_vectorized_ros, Train_y_ros = ros.fit_resample(Train_X_vectorized, Train_y)"
   ]
  },
  {
   "cell_type": "code",
   "execution_count": 68,
   "metadata": {
    "colab": {
     "base_uri": "https://localhost:8080/"
    },
    "id": "2wR3DVQG9sD3",
    "outputId": "5725382f-23b1-4542-9d8d-0228d2d7c792"
   },
   "outputs": [
    {
     "name": "stdout",
     "output_type": "stream",
     "text": [
      "Naive Bayes Accuracy Score ->  32.241813602015114\n",
      "              precision    recall  f1-score   support\n",
      "\n",
      "           0       0.30      0.43      0.35        14\n",
      "           1       0.26      0.07      0.11       171\n",
      "           2       0.33      0.20      0.25        45\n",
      "           3       0.24      0.56      0.33         9\n",
      "           4       0.35      0.35      0.35        31\n",
      "           5       0.40      0.46      0.43        37\n",
      "           6       0.57      0.48      0.52        63\n",
      "           7       0.42      0.33      0.37        67\n",
      "           8       0.07      0.12      0.09         8\n",
      "           9       0.33      0.83      0.48        12\n",
      "          10       0.05      0.05      0.05        38\n",
      "          11       0.20      0.18      0.19        17\n",
      "          12       0.09      0.25      0.13         4\n",
      "          13       0.15      0.20      0.17        20\n",
      "          14       0.00      0.00      0.00         1\n",
      "          15       0.63      1.00      0.77        12\n",
      "          16       0.27      0.18      0.22        89\n",
      "          17       0.33      1.00      0.50         1\n",
      "          18       0.28      0.91      0.43        11\n",
      "          19       0.39      0.74      0.51        27\n",
      "          20       0.32      0.50      0.39        24\n",
      "          21       0.41      0.60      0.49        15\n",
      "          22       1.00      1.00      1.00         1\n",
      "          23       0.50      0.40      0.44         5\n",
      "          24       0.20      0.25      0.22         4\n",
      "          25       0.18      1.00      0.30         3\n",
      "          27       0.44      0.70      0.54        10\n",
      "          28       0.00      0.00      0.00         0\n",
      "          29       0.55      0.67      0.60         9\n",
      "          30       0.24      0.36      0.29        14\n",
      "          31       0.20      0.67      0.31         3\n",
      "          32       0.67      0.50      0.57         4\n",
      "          33       0.17      0.25      0.20         4\n",
      "          34       0.59      0.83      0.69        12\n",
      "          35       0.20      0.33      0.25         3\n",
      "          36       0.00      0.00      0.00         1\n",
      "          37       0.00      0.00      0.00         1\n",
      "          38       0.40      0.67      0.50         3\n",
      "          39       0.00      0.00      0.00         1\n",
      "\n",
      "    accuracy                           0.32       794\n",
      "   macro avg       0.30      0.44      0.33       794\n",
      "weighted avg       0.33      0.32      0.30       794\n",
      "\n"
     ]
    },
    {
     "name": "stderr",
     "output_type": "stream",
     "text": [
      "/usr/local/lib/python3.10/dist-packages/sklearn/metrics/_classification.py:1344: UndefinedMetricWarning: Recall and F-score are ill-defined and being set to 0.0 in labels with no true samples. Use `zero_division` parameter to control this behavior.\n",
      "  _warn_prf(average, modifier, msg_start, len(result))\n",
      "/usr/local/lib/python3.10/dist-packages/sklearn/metrics/_classification.py:1344: UndefinedMetricWarning: Recall and F-score are ill-defined and being set to 0.0 in labels with no true samples. Use `zero_division` parameter to control this behavior.\n",
      "  _warn_prf(average, modifier, msg_start, len(result))\n",
      "/usr/local/lib/python3.10/dist-packages/sklearn/metrics/_classification.py:1344: UndefinedMetricWarning: Recall and F-score are ill-defined and being set to 0.0 in labels with no true samples. Use `zero_division` parameter to control this behavior.\n",
      "  _warn_prf(average, modifier, msg_start, len(result))\n"
     ]
    }
   ],
   "source": [
    "MultiNB = naive_bayes.MultinomialNB(alpha=0.5)\n",
    "MultiNB.fit(Train_X_vectorized_ros, Train_y_ros)\n",
    "# Predict the labels on validation datase5\n",
    "pred_y_nb = MultiNB.predict(Test_X_vectorized)\n",
    "# Use accuracy_score function to get the accuracy\n",
    "print(\"Naive Bayes Accuracy Score -> \", accuracy_score(pred_y_nb, Test_y)*100)\n",
    "print(classification_report(Test_y, pred_y_nb))"
   ]
  },
  {
   "cell_type": "markdown",
   "metadata": {
    "id": "APfWmtg7uznd"
   },
   "source": [
    "# SVM"
   ]
  },
  {
   "cell_type": "code",
   "execution_count": 71,
   "metadata": {
    "id": "aoRHtZIUHYOS"
   },
   "outputs": [],
   "source": [
    "Train_X, Test_X, Train_y, Test_y = model_selection.train_test_split(df['transcription_cleaned_simple'], df['labels'].values, test_size=0.3, random_state=69)\n",
    "Tfidf_vectorizer = TfidfVectorizer(max_features=10000)\n",
    "Tfidf_vectorizer.fit(df['transcription_cleaned_simple'])\n",
    "Train_X_vectorized = Tfidf_vectorizer.transform(Train_X)\n",
    "Test_X_vectorized = Tfidf_vectorizer.transform(Test_X)"
   ]
  },
  {
   "cell_type": "code",
   "execution_count": 72,
   "metadata": {
    "colab": {
     "base_uri": "https://localhost:8080/"
    },
    "id": "3kp30Agnu6Yq",
    "outputId": "07a5c589-24ba-4f3a-b785-c8a895822b69"
   },
   "outputs": [
    {
     "name": "stdout",
     "output_type": "stream",
     "text": [
      "SVM Accuracy Score ->  21.91435768261965\n",
      "              precision    recall  f1-score   support\n",
      "\n",
      "           0       0.00      0.00      0.00        22\n",
      "           1       0.22      1.00      0.36       261\n",
      "           2       0.00      0.00      0.00        70\n",
      "           3       0.00      0.00      0.00        12\n",
      "           4       0.00      0.00      0.00        44\n",
      "           5       0.00      0.00      0.00        53\n",
      "           6       0.00      0.00      0.00        94\n",
      "           7       0.00      0.00      0.00        93\n",
      "           8       0.00      0.00      0.00        20\n",
      "           9       0.00      0.00      0.00        19\n",
      "          10       0.00      0.00      0.00        61\n",
      "          11       0.00      0.00      0.00        22\n",
      "          12       0.00      0.00      0.00         7\n",
      "          13       0.00      0.00      0.00        32\n",
      "          14       0.00      0.00      0.00         3\n",
      "          15       0.00      0.00      0.00        13\n",
      "          16       0.00      0.00      0.00       122\n",
      "          17       0.00      0.00      0.00         1\n",
      "          18       0.00      0.00      0.00        18\n",
      "          19       0.00      0.00      0.00        40\n",
      "          20       0.00      0.00      0.00        39\n",
      "          21       0.00      0.00      0.00        26\n",
      "          22       0.00      0.00      0.00         1\n",
      "          23       0.00      0.00      0.00         8\n",
      "          24       0.00      0.00      0.00         6\n",
      "          25       0.00      0.00      0.00         4\n",
      "          26       0.00      0.00      0.00         2\n",
      "          27       0.00      0.00      0.00        14\n",
      "          28       0.00      0.00      0.00         1\n",
      "          29       0.00      0.00      0.00        12\n",
      "          30       0.00      0.00      0.00        24\n",
      "          31       0.00      0.00      0.00         6\n",
      "          32       0.00      0.00      0.00         4\n",
      "          33       0.00      0.00      0.00         5\n",
      "          34       0.00      0.00      0.00        19\n",
      "          35       0.00      0.00      0.00         3\n",
      "          36       0.00      0.00      0.00         1\n",
      "          37       0.00      0.00      0.00         2\n",
      "          38       0.00      0.00      0.00         4\n",
      "          39       0.00      0.00      0.00         3\n",
      "\n",
      "    accuracy                           0.22      1191\n",
      "   macro avg       0.01      0.03      0.01      1191\n",
      "weighted avg       0.05      0.22      0.08      1191\n",
      "\n"
     ]
    },
    {
     "name": "stderr",
     "output_type": "stream",
     "text": [
      "/usr/local/lib/python3.10/dist-packages/sklearn/metrics/_classification.py:1344: UndefinedMetricWarning: Precision and F-score are ill-defined and being set to 0.0 in labels with no predicted samples. Use `zero_division` parameter to control this behavior.\n",
      "  _warn_prf(average, modifier, msg_start, len(result))\n",
      "/usr/local/lib/python3.10/dist-packages/sklearn/metrics/_classification.py:1344: UndefinedMetricWarning: Precision and F-score are ill-defined and being set to 0.0 in labels with no predicted samples. Use `zero_division` parameter to control this behavior.\n",
      "  _warn_prf(average, modifier, msg_start, len(result))\n",
      "/usr/local/lib/python3.10/dist-packages/sklearn/metrics/_classification.py:1344: UndefinedMetricWarning: Precision and F-score are ill-defined and being set to 0.0 in labels with no predicted samples. Use `zero_division` parameter to control this behavior.\n",
      "  _warn_prf(average, modifier, msg_start, len(result))\n"
     ]
    }
   ],
   "source": [
    "# fit the training dataset on the classifier\n",
    "SVM = svm.SVC(C=1.0, kernel='rbf', degree=3, gamma='auto')\n",
    "SVM.fit(Train_X_vectorized,Train_y)\n",
    "# predict the labels on validation dataset\n",
    "pred_y_svm = SVM.predict(Test_X_vectorized)\n",
    "# Use accuracy_score function to get the accuracy\n",
    "print(\"SVM Accuracy Score -> \",accuracy_score(pred_y_svm, Test_y)*100)\n",
    "print(classification_report(Test_y, pred_y_svm))\n"
   ]
  },
  {
   "cell_type": "markdown",
   "metadata": {
    "id": "Y2V3ndAUHrv5"
   },
   "source": [
    "# Logistic Regression"
   ]
  },
  {
   "cell_type": "code",
   "execution_count": 74,
   "metadata": {
    "colab": {
     "base_uri": "https://localhost:8080/"
    },
    "id": "uahgZtpQ26I3",
    "outputId": "77b78f2b-771d-4307-c190-f2b16cb58d3e"
   },
   "outputs": [
    {
     "name": "stdout",
     "output_type": "stream",
     "text": [
      "accuracy 0.3022670025188917\n",
      "              precision    recall  f1-score   support\n",
      "\n",
      "           0       0.00      0.00      0.00        22\n",
      "           1       0.38      0.68      0.48       261\n",
      "           2       0.35      0.34      0.35        70\n",
      "           3       0.00      0.00      0.00        12\n",
      "           4       0.18      0.16      0.17        44\n",
      "           5       0.24      0.11      0.15        53\n",
      "           6       0.20      0.16      0.18        94\n",
      "           7       0.29      0.28      0.29        93\n",
      "           8       0.00      0.00      0.00        20\n",
      "           9       0.33      0.11      0.16        19\n",
      "          10       0.13      0.08      0.10        61\n",
      "          11       0.00      0.00      0.00        22\n",
      "          12       0.00      0.00      0.00         7\n",
      "          13       0.14      0.12      0.13        32\n",
      "          14       0.00      0.00      0.00         3\n",
      "          15       0.20      0.08      0.11        13\n",
      "          16       0.28      0.58      0.38       122\n",
      "          17       0.00      0.00      0.00         1\n",
      "          18       0.00      0.00      0.00        18\n",
      "          19       0.13      0.05      0.07        40\n",
      "          20       0.11      0.05      0.07        39\n",
      "          21       0.26      0.35      0.30        26\n",
      "          22       0.00      0.00      0.00         1\n",
      "          23       0.00      0.00      0.00         8\n",
      "          24       0.00      0.00      0.00         6\n",
      "          25       0.00      0.00      0.00         4\n",
      "          26       0.00      0.00      0.00         2\n",
      "          27       0.45      0.36      0.40        14\n",
      "          28       0.00      0.00      0.00         1\n",
      "          29       0.00      0.00      0.00        12\n",
      "          30       0.00      0.00      0.00        24\n",
      "          31       0.00      0.00      0.00         6\n",
      "          32       0.00      0.00      0.00         4\n",
      "          33       0.00      0.00      0.00         5\n",
      "          34       0.67      0.21      0.32        19\n",
      "          35       0.00      0.00      0.00         3\n",
      "          36       0.00      0.00      0.00         1\n",
      "          37       0.00      0.00      0.00         2\n",
      "          38       0.00      0.00      0.00         4\n",
      "          39       0.00      0.00      0.00         3\n",
      "\n",
      "    accuracy                           0.30      1191\n",
      "   macro avg       0.11      0.09      0.09      1191\n",
      "weighted avg       0.24      0.30      0.25      1191\n",
      "\n"
     ]
    },
    {
     "name": "stderr",
     "output_type": "stream",
     "text": [
      "/usr/local/lib/python3.10/dist-packages/sklearn/metrics/_classification.py:1344: UndefinedMetricWarning: Precision and F-score are ill-defined and being set to 0.0 in labels with no predicted samples. Use `zero_division` parameter to control this behavior.\n",
      "  _warn_prf(average, modifier, msg_start, len(result))\n",
      "/usr/local/lib/python3.10/dist-packages/sklearn/metrics/_classification.py:1344: UndefinedMetricWarning: Precision and F-score are ill-defined and being set to 0.0 in labels with no predicted samples. Use `zero_division` parameter to control this behavior.\n",
      "  _warn_prf(average, modifier, msg_start, len(result))\n",
      "/usr/local/lib/python3.10/dist-packages/sklearn/metrics/_classification.py:1344: UndefinedMetricWarning: Precision and F-score are ill-defined and being set to 0.0 in labels with no predicted samples. Use `zero_division` parameter to control this behavior.\n",
      "  _warn_prf(average, modifier, msg_start, len(result))\n"
     ]
    }
   ],
   "source": [
    "from sklearn.linear_model import LogisticRegression\n",
    "logreg = LogisticRegression()\n",
    "logreg.fit(Train_X_vectorized,Train_y)\n",
    "# predict the labels on validation dataset\n",
    "pred_y_logreg = logreg.predict(Test_X_vectorized)\n",
    "\n",
    "\n",
    "print('accuracy %s' % accuracy_score(pred_y_logreg, Test_y))\n",
    "print(classification_report(Test_y, pred_y_logreg))"
   ]
  }
 ],
 "metadata": {
  "colab": {
   "authorship_tag": "ABX9TyOGqu/Ufdh2G/lC4p/AiuZt",
   "mount_file_id": "1_cbwEcmreK6qxYnRBsBsGGbrBeQyhB36",
   "provenance": []
  },
  "kernelspec": {
   "display_name": "Python 3",
   "name": "python3"
  },
  "language_info": {
   "name": "python"
  }
 },
 "nbformat": 4,
 "nbformat_minor": 0
}
